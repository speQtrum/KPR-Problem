{
 "cells": [
  {
   "cell_type": "code",
   "execution_count": 5,
   "id": "66e3e3f2-6229-4728-9ded-ff0286d126c7",
   "metadata": {
    "tags": []
   },
   "outputs": [],
   "source": [
    "import numpy as np\n",
    "import pandas as pd\n",
    "import matplotlib.pyplot as plt \n",
    "from itertools import combinations,permutations, product\n",
    "%matplotlib inline"
   ]
  },
  {
   "cell_type": "code",
   "execution_count": 6,
   "id": "edbef56c-54e5-4274-b23a-d9800a2f4f02",
   "metadata": {
    "tags": []
   },
   "outputs": [],
   "source": [
    "def generate_configurations(n):\n",
    "    balls = [f\"Ball {i}\" for i in range(n)]\n",
    "    buckets = [f\"Bucket {i}\" for i in range(n)]\n",
    "\n",
    "    configurations = []\n",
    "    for combination in product(buckets, repeat=n):\n",
    "        configuration = list(zip(balls, combination))\n",
    "        configurations.append(configuration)\n",
    "\n",
    "    return configurations"
   ]
  },
  {
   "cell_type": "code",
   "execution_count": 7,
   "id": "0fa25691-622f-42f2-8e55-5ca98623d2fa",
   "metadata": {
    "tags": []
   },
   "outputs": [],
   "source": [
    "# configurations = {\n",
    "#                   \"config0\": {0: {0,1}, 1: {}},\n",
    "#                   \"config1\": {0: {0}  , 1: {1}},\n",
    "#                   \"config2\": {0: {1}  , 1: {0}},\n",
    "#                   \"config3\": {0: {}   , 1: {0,1}}\n",
    "#                   }\n",
    "# configurations"
   ]
  },
  {
   "cell_type": "code",
   "execution_count": 8,
   "id": "0c518073-e880-421c-abaa-3d160ffa2d50",
   "metadata": {
    "tags": []
   },
   "outputs": [
    {
     "data": {
      "text/plain": [
       "{'config_0': {0: [0, 1, 2], 1: [], 2: []},\n",
       " 'config_1': {0: [0, 1], 1: [2], 2: []},\n",
       " 'config_2': {0: [0, 1], 1: [], 2: [2]},\n",
       " 'config_3': {0: [0, 2], 1: [1], 2: []},\n",
       " 'config_4': {0: [0], 1: [1, 2], 2: []},\n",
       " 'config_5': {0: [0], 1: [1], 2: [2]},\n",
       " 'config_6': {0: [0, 2], 1: [], 2: [1]},\n",
       " 'config_7': {0: [0], 1: [2], 2: [1]},\n",
       " 'config_8': {0: [0], 1: [], 2: [1, 2]},\n",
       " 'config_9': {0: [1, 2], 1: [0], 2: []},\n",
       " 'config_10': {0: [1], 1: [0, 2], 2: []},\n",
       " 'config_11': {0: [1], 1: [0], 2: [2]},\n",
       " 'config_12': {0: [2], 1: [0, 1], 2: []},\n",
       " 'config_13': {0: [], 1: [0, 1, 2], 2: []},\n",
       " 'config_14': {0: [], 1: [0, 1], 2: [2]},\n",
       " 'config_15': {0: [2], 1: [0], 2: [1]},\n",
       " 'config_16': {0: [], 1: [0, 2], 2: [1]},\n",
       " 'config_17': {0: [], 1: [0], 2: [1, 2]},\n",
       " 'config_18': {0: [1, 2], 1: [], 2: [0]},\n",
       " 'config_19': {0: [1], 1: [2], 2: [0]},\n",
       " 'config_20': {0: [1], 1: [], 2: [0, 2]},\n",
       " 'config_21': {0: [2], 1: [1], 2: [0]},\n",
       " 'config_22': {0: [], 1: [1, 2], 2: [0]},\n",
       " 'config_23': {0: [], 1: [1], 2: [0, 2]},\n",
       " 'config_24': {0: [2], 1: [], 2: [0, 1]},\n",
       " 'config_25': {0: [], 1: [2], 2: [0, 1]},\n",
       " 'config_26': {0: [], 1: [], 2: [0, 1, 2]}}"
      ]
     },
     "execution_count": 8,
     "metadata": {},
     "output_type": "execute_result"
    }
   ],
   "source": [
    "n = 3\n",
    "configurations = generate_configurations(n)\n",
    "my_configs = {}\n",
    "\n",
    "\n",
    "for k in range(len(configurations)):\n",
    "# for config in configurations:\n",
    "    buckets = {}\n",
    "    for i in range(n):\n",
    "        buckets[i] = []\n",
    "    for item in configurations[k]:\n",
    "        buckets[int(item[1][-1])].append(int(item[0][-1]))\n",
    "    my_configs[\"config_\"+str(k)] = buckets\n",
    "\n",
    "    \n",
    "my_configs"
   ]
  },
  {
   "cell_type": "code",
   "execution_count": 12,
   "id": "e1c0508a-4bc4-4ebc-a1f6-0f53e64aa4a2",
   "metadata": {},
   "outputs": [
    {
     "name": "stdout",
     "output_type": "stream",
     "text": [
      "config_0 {0: [0, 1, 2], 1: [], 2: []}\n",
      "config_1 {0: [0, 1], 1: [2], 2: []}\n",
      "config_2 {0: [0, 1], 1: [], 2: [2]}\n",
      "config_3 {0: [0, 2], 1: [1], 2: []}\n",
      "config_4 {0: [0], 1: [1, 2], 2: []}\n",
      "config_5 {0: [0], 1: [1], 2: [2]}\n",
      "config_6 {0: [0, 2], 1: [], 2: [1]}\n",
      "config_7 {0: [0], 1: [2], 2: [1]}\n",
      "config_8 {0: [0], 1: [], 2: [1, 2]}\n",
      "config_9 {0: [1, 2], 1: [0], 2: []}\n",
      "config_10 {0: [1], 1: [0, 2], 2: []}\n",
      "config_11 {0: [1], 1: [0], 2: [2]}\n",
      "config_12 {0: [2], 1: [0, 1], 2: []}\n",
      "config_13 {0: [], 1: [0, 1, 2], 2: []}\n",
      "config_14 {0: [], 1: [0, 1], 2: [2]}\n",
      "config_15 {0: [2], 1: [0], 2: [1]}\n",
      "config_16 {0: [], 1: [0, 2], 2: [1]}\n",
      "config_17 {0: [], 1: [0], 2: [1, 2]}\n",
      "config_18 {0: [1, 2], 1: [], 2: [0]}\n",
      "config_19 {0: [1], 1: [2], 2: [0]}\n",
      "config_20 {0: [1], 1: [], 2: [0, 2]}\n",
      "config_21 {0: [2], 1: [1], 2: [0]}\n",
      "config_22 {0: [], 1: [1, 2], 2: [0]}\n",
      "config_23 {0: [], 1: [1], 2: [0, 2]}\n",
      "config_24 {0: [2], 1: [], 2: [0, 1]}\n",
      "config_25 {0: [], 1: [2], 2: [0, 1]}\n",
      "config_26 {0: [], 1: [], 2: [0, 1, 2]}\n"
     ]
    }
   ],
   "source": [
    "for k,v in my_configs.items():\n",
    "    print(k,v)\n",
    "    "
   ]
  },
  {
   "cell_type": "code",
   "execution_count": null,
   "id": "cd8d99c8-55e2-48b1-b9a5-eae5dd532c6c",
   "metadata": {},
   "outputs": [],
   "source": [
    "'config_0': {0: [0, 1, 2], 1: [], 2: []}"
   ]
  },
  {
   "cell_type": "code",
   "execution_count": null,
   "id": "f35c1d90-81eb-4452-aff3-06eb53890ff0",
   "metadata": {},
   "outputs": [],
   "source": [
    "'config_0': {0: [0, 1, 2], 1: [], 2: []}\n",
    "'config_0': {0: [0, 1, 2], 1: [], 2: []}\n",
    "\n",
    "\n",
    "'config_0': {0: [0], 1: [1], 2: [2]}\n",
    "'config_0': {0: [0], 1: [2], 2: [1]}\n",
    "'config_0': {0: [1], 1: [0], 2: [2]}\n",
    "'config_0': {0: [1], 1: [2], 2: [0]}\n",
    "'config_0': {0: [2], 1: [0], 2: [1]}\n",
    "'config_0': {0: [2], 1: [1], 2: [0]}\n",
    "\n",
    "\n",
    "\n",
    "\n",
    "\n",
    "\n"
   ]
  },
  {
   "cell_type": "code",
   "execution_count": null,
   "id": "06883d42-5249-48ab-a139-e0014e2ae08c",
   "metadata": {},
   "outputs": [],
   "source": []
  }
 ],
 "metadata": {
  "kernelspec": {
   "display_name": "Python 3 (ipykernel)",
   "language": "python",
   "name": "python3"
  },
  "language_info": {
   "codemirror_mode": {
    "name": "ipython",
    "version": 3
   },
   "file_extension": ".py",
   "mimetype": "text/x-python",
   "name": "python",
   "nbconvert_exporter": "python",
   "pygments_lexer": "ipython3",
   "version": "3.10.8"
  },
  "widgets": {
   "application/vnd.jupyter.widget-state+json": {
    "state": {},
    "version_major": 2,
    "version_minor": 0
   }
  }
 },
 "nbformat": 4,
 "nbformat_minor": 5
}
