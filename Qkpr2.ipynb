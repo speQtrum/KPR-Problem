{
 "cells": [
  {
   "cell_type": "code",
   "execution_count": 6,
   "id": "296ff8de-2469-4b65-af8e-4762557939d5",
   "metadata": {
    "tags": []
   },
   "outputs": [],
   "source": [
    "# Importing standard Qiskit libraries\n",
    "from qiskit import QuantumCircuit,transpile, QuantumRegister, ClassicalRegister\n",
    "from qiskit.visualization import plot_histogram, plot_bloch_multivector\n",
    "from qiskit.tools.jupyter import *\n",
    "from qiskit.visualization import *\n",
    "from ibm_quantum_widgets import *\n",
    "from qiskit_aer import AerSimulator\n",
    "from qiskit import BasicAer\n",
    "import numpy as np\n",
    "import pandas as pd\n",
    "import matplotlib.pyplot as plt\n",
    "from collections import Counter\n",
    "# qiskit-ibmq-provider has been deprecated.\n",
    "# Please see the Migration Guides in https://ibm.biz/provider_migration_guide for more detail.\n",
    "from qiskit_ibm_runtime import QiskitRuntimeService, Sampler, Estimator, Session, Options\n",
    "\n",
    "# Loading your IBM Quantum account(s)\n",
    "service = QiskitRuntimeService(channel=\"ibm_quantum\")\n",
    "\n",
    "# Invoke a primitive inside a session. For more details see https://qiskit.org/documentation/partners/qiskit_ibm_runtime/tutorials.html\n",
    "# with Session(backend=service.backend(\"ibmq_qasm_simulator\")):\n",
    "#     result = Sampler().run(circuits).result()"
   ]
  },
  {
   "cell_type": "markdown",
   "id": "002a2231-ffc2-4c28-af55-2e306c615684",
   "metadata": {},
   "source": [
    "# Iterative throw/days simulation "
   ]
  },
  {
   "cell_type": "code",
   "execution_count": 7,
   "id": "e600e317-8141-44fb-b96d-241d120c303d",
   "metadata": {
    "tags": []
   },
   "outputs": [
    {
     "name": "stdout",
     "output_type": "stream",
     "text": [
      "15 qubits required\n"
     ]
    }
   ],
   "source": [
    "###### Estimting number of Qubits required ###########\n",
    "\n",
    "N = 5  # number of balls and number of buckets \n",
    "n = len(format(N-1,'b')) # number of qubits per ball/bucket\n",
    "\n",
    "print(N*n,\"qubits required\")"
   ]
  },
  {
   "cell_type": "code",
   "execution_count": 8,
   "id": "58be1996-e39a-407d-845a-2a6a6b9960a0",
   "metadata": {
    "tags": []
   },
   "outputs": [],
   "source": [
    "########## Building the KPR Problem Circuit #############\n",
    "\n",
    "qreg = QuantumRegister(N*n)\n",
    "circuit = QuantumCircuit(qreg)\n",
    "\n",
    "\n",
    "circuit.h(range(len(qreg)))\n",
    "circuit.measure_all()\n",
    "# circuit.draw('mpl')"
   ]
  },
  {
   "cell_type": "code",
   "execution_count": 9,
   "id": "f1b3e64e-f05a-458e-b0a9-6b85eb2ff580",
   "metadata": {
    "tags": []
   },
   "outputs": [
    {
     "name": "stdout",
     "output_type": "stream",
     "text": [
      "Throws/day number 2:|000100011010010> --> 04322 --> 0432X with occupancy:80.0%\n",
      "Throws/day number 12:|010011001011100> --> 23134 --> 231X4 with occupancy:80.0%\n",
      "Throws/day number 14:|100100011001100> --> 44314 --> 4X31X with occupancy:60.0%\n",
      "Throws/day number 17:|100001001011100> --> 41134 --> 41X3X with occupancy:60.0%\n",
      "Throws/day number 33:|011011000001011> --> 33013 --> 3X01X with occupancy:60.0%\n",
      "Throws/day number 43:|100000000011000> --> 40030 --> 40X3X with occupancy:60.0%\n",
      "Throws/day number 55:|100011100010000> --> 43420 --> 43X20 with occupancy:80.0%\n",
      "Throws/day number 57:|100100000010010> --> 44022 --> 4X02X with occupancy:60.0%\n",
      "Throws/day number 60:|001000001010001> --> 10121 --> 10X2X with occupancy:60.0%\n",
      "Throws/day number 77:|010001011010100> --> 21324 --> 213X4 with occupancy:80.0%\n",
      "Throws/day number 81:|011001001011011> --> 31133 --> 31XXX with occupancy:40.0%\n",
      "Throws/day number 91:|000011011010010> --> 03322 --> 03X2X with occupancy:60.0%\n",
      "Throws/day number 92:|011100010001010> --> 34212 --> 3421X with occupancy:80.0%\n"
     ]
    }
   ],
   "source": [
    "d = 100 # number of throws/days (iterative)\n",
    "utility = []\n",
    "\n",
    "###################################\n",
    "buckets = np.arange(2**n)\n",
    "unused_buckets = list((buckets[buckets > (N-1)]).astype(str))\n",
    "###################################\n",
    "\n",
    "\n",
    "for _ in range(d):\n",
    "    backend = BasicAer.get_backend('qasm_simulator') # the device to run on\n",
    "    result = backend.run(transpile(circuit, backend), shots=1).result()\n",
    "    counts = result.get_counts()\n",
    "    state  = list(counts.keys())[0] # getting the quantum state\n",
    "    \n",
    "    \n",
    "    ##################  Converting the result into bucket/restaurant number  #################\n",
    "    config = [str(int(state[i:i+n],2)) for i in range(0,len(state),n)]\n",
    "    key = \"\".join([str(item) for item in config]) # converted into ball number\n",
    "\n",
    "    ##################  Removing outputs with unused buckets  ##############################\n",
    "    if not any([x in key for x in unused_buckets]):\n",
    "        ######### postprocessing: replacing buckets by X if a ball is already present there (starting from left)\n",
    "        \n",
    "        t = [i for i in key]\n",
    "        counter = dict(Counter(key))\n",
    "        uniques = list(counter.keys())\n",
    "        k_array = np.array([int(i) for i in key])\n",
    "\n",
    "        for u in uniques:\n",
    "            locations = np.where(k_array == int(u))\n",
    "            indices = locations[0][1:]\n",
    "            if len(indices) >= 1:\n",
    "                for j in indices:\n",
    "                    t[j] = 'X'\n",
    "                    # print('Replacing {} with X for {}'.format(j,u))\n",
    "            else:\n",
    "                pass\n",
    "        final_config = ''.join(t)\n",
    "        \n",
    "        ########### occupancy calculation #############\n",
    "        occupancy = ((len(final_config) - final_config.count('X'))/len(final_config))\n",
    "        utility.append(occupancy)\n",
    "        print(\"Throws/day number {}:|{}> --> {} --> {} with occupancy:{}%\".format(_+1,state,key,final_config,occupancy*100))\n",
    "    else:\n",
    "        # print(key,'is an invalid cofiguration')\n",
    "        pass\n",
    "        \n",
    "        \n",
    "    \n",
    "    # print(\"Throws/day number {}:{} --> {}\".format(_+1,state,key))"
   ]
  },
  {
   "cell_type": "code",
   "execution_count": 10,
   "id": "92d60a72-5e24-4f8f-92ef-a540aae1c3d2",
   "metadata": {
    "tags": []
   },
   "outputs": [
    {
     "name": "stdout",
     "output_type": "stream",
     "text": [
      "Quantum: The average occupancy or utility is 66.15384615384615% for 5 balls and 5 buckets\n"
     ]
    },
    {
     "data": {
      "image/png": "[encoded data removed]",
      "text/plain": [
       "<Figure size 1500x400 with 1 Axes>"
      ]
     },
     "metadata": {},
     "output_type": "display_data"
    }
   ],
   "source": [
    "print(\"Quantum: The average occupancy or utility is {}% for {} balls and {} buckets\".format(np.array(utility).mean()*100,N,N))\n",
    "\n",
    "\n",
    "plt.figure(figsize=(15,4))\n",
    "plt.ylabel(\"Utility in %\")\n",
    "plt.xlabel(\"Number of throws/days\")\n",
    "plt.axhline(y = np.array(utility).mean()*100, color = 'r', linestyle = '-')\n",
    "plt.plot(np.array(utility)*100)\n",
    "plt.show()"
   ]
  },
  {
   "cell_type": "code",
   "execution_count": null,
   "id": "575ab82b-6ad9-4457-bf63-f26f1bcd6513",
   "metadata": {},
   "outputs": [],
   "source": []
  },
  {
   "cell_type": "code",
   "execution_count": null,
   "id": "c7a976ab-12be-4af2-ac3c-37d75739ffc7",
   "metadata": {},
   "outputs": [],
   "source": []
  },
  {
   "cell_type": "code",
   "execution_count": null,
   "id": "d5796d09-9601-4d56-9972-28d26f28d0d4",
   "metadata": {},
   "outputs": [],
   "source": []
  },
  {
   "cell_type": "code",
   "execution_count": null,
   "id": "b7f532f1-f121-4b48-80f0-5d0d1fa12131",
   "metadata": {},
   "outputs": [],
   "source": []
  }
 ],
 "metadata": {
  "kernelspec": {
   "display_name": "Python 3 (ipykernel)",
   "language": "python",
   "name": "python3"
  },
  "language_info": {
   "codemirror_mode": {
    "name": "ipython",
    "version": 3
   },
   "file_extension": ".py",
   "mimetype": "text/x-python",
   "name": "python",
   "nbconvert_exporter": "python",
   "pygments_lexer": "ipython3",
   "version": "3.10.8"
  },
  "widgets": {
   "application/vnd.jupyter.widget-state+json": {
    "state": {
     "0ff5f4c2b88e41978fa49140b2aa7082": {
      "model_module": "@jupyter-widgets/base",
      "model_module_version": "2.0.0",
      "model_name": "LayoutModel",
      "state": {
       "width": "70px"
      }
     },
     "1fccaf951fe04d84aff65fc284488dae": {
      "model_module": "@jupyter-widgets/base",
      "model_module_version": "2.0.0",
      "model_name": "LayoutModel",
      "state": {
       "margin": "0px 0px 0px 37px",
       "width": "600px"
      }
     },
     "2121db130d9d437fa7ac75329858ea9f": {
      "model_module": "@jupyter-widgets/controls",
      "model_module_version": "2.0.0",
      "model_name": "HTMLModel",
      "state": {
       "layout": "IPY_MODEL_7e63db54e2814f268e18a4dea34e3565",
       "style": "IPY_MODEL_3bec2d03643f45f998df8bf369fb3dfc",
       "value": "<h5>Message</h5>"
      }
     },
     "3bec2d03643f45f998df8bf369fb3dfc": {
      "model_module": "@jupyter-widgets/controls",
      "model_module_version": "2.0.0",
      "model_name": "HTMLStyleModel",
      "state": {
       "description_width": "",
       "font_size": null,
       "text_color": null
      }
     },
     "3f060e85c0064fccbdac885dff289ac5": {
      "model_module": "@jupyter-widgets/controls",
      "model_module_version": "2.0.0",
      "model_name": "HTMLModel",
      "state": {
       "layout": "IPY_MODEL_0ff5f4c2b88e41978fa49140b2aa7082",
       "style": "IPY_MODEL_ae59cc6abd734c0daf5487f8f5936d68",
       "value": "<h5>Queue</h5>"
      }
     },
     "44c4b37e36d94c91b06beb86463f9724": {
      "model_module": "@jupyter-widgets/base",
      "model_module_version": "2.0.0",
      "model_name": "LayoutModel",
      "state": {
       "width": "95px"
      }
     },
     "44dd285654ae4b739aa9870b71cebf98": {
      "model_module": "@jupyter-widgets/controls",
      "model_module_version": "2.0.0",
      "model_name": "GridBoxModel",
      "state": {
       "children": [
        "IPY_MODEL_fd692210e10648449ddfb949a1bd8fbc"
       ],
       "layout": "IPY_MODEL_4bc320c14d45412eab6afd1aeb2c8294"
      }
     },
     "4bc320c14d45412eab6afd1aeb2c8294": {
      "model_module": "@jupyter-widgets/base",
      "model_module_version": "2.0.0",
      "model_name": "LayoutModel",
      "state": {
       "grid_template_areas": "\n                                       \". . . . right \"\n                                        ",
       "grid_template_columns": "20% 20% 20% 20% 20%",
       "width": "100%"
      }
     },
     "53887ff5f0f44ea9af96390100033932": {
      "model_module": "@jupyter-widgets/base",
      "model_module_version": "2.0.0",
      "model_name": "LayoutModel",
      "state": {
       "width": "145px"
      }
     },
     "53a3c5da8e4440e28d55b2c848163eb8": {
      "model_module": "@jupyter-widgets/controls",
      "model_module_version": "2.0.0",
      "model_name": "HTMLModel",
      "state": {
       "layout": "IPY_MODEL_b2941a73fcc74bd0bc65098cc56b08f9",
       "style": "IPY_MODEL_d82f2918549244f8870a2d868f1566b9",
       "value": "<p style='font-family: IBM Plex Sans, Arial, Helvetica, sans-serif; font-size: 20px; font-weight: medium;'>Circuit Properties</p>"
      }
     },
     "6ddf15c40300419f9fe3f54d2db728f6": {
      "model_module": "@jupyter-widgets/controls",
      "model_module_version": "2.0.0",
      "model_name": "HTMLModel",
      "state": {
       "layout": "IPY_MODEL_d79dbfb425164763af75eb9281926d61",
       "style": "IPY_MODEL_f470043615774bb7bf95b50f3a34d0aa",
       "value": "<h5>Job ID</h5>"
      }
     },
     "6e283a522ec9471888fdaec44af6f490": {
      "model_module": "@jupyter-widgets/controls",
      "model_module_version": "2.0.0",
      "model_name": "HTMLModel",
      "state": {
       "layout": "IPY_MODEL_53887ff5f0f44ea9af96390100033932",
       "style": "IPY_MODEL_91d5fd17e26542699c62fca035051e3c",
       "value": "<h5>Backend</h5>"
      }
     },
     "7e63db54e2814f268e18a4dea34e3565": {
      "model_module": "@jupyter-widgets/base",
      "model_module_version": "2.0.0",
      "model_name": "LayoutModel",
      "state": {}
     },
     "91d5fd17e26542699c62fca035051e3c": {
      "model_module": "@jupyter-widgets/controls",
      "model_module_version": "2.0.0",
      "model_name": "HTMLStyleModel",
      "state": {
       "description_width": "",
       "font_size": null,
       "text_color": null
      }
     },
     "97686ffb344e429989515c5a55db935f": {
      "model_module": "@jupyter-widgets/controls",
      "model_module_version": "2.0.0",
      "model_name": "ButtonStyleModel",
      "state": {
       "font_family": null,
       "font_size": null,
       "font_style": null,
       "font_variant": null,
       "font_weight": null,
       "text_color": null,
       "text_decoration": null
      }
     },
     "9e147fd63f2647e7be8332441ecf3ab0": {
      "model_module": "@jupyter-widgets/controls",
      "model_module_version": "2.0.0",
      "model_name": "HBoxModel",
      "state": {
       "children": [
        "IPY_MODEL_6ddf15c40300419f9fe3f54d2db728f6",
        "IPY_MODEL_6e283a522ec9471888fdaec44af6f490",
        "IPY_MODEL_c121d372474243a293c99f2415c76b78",
        "IPY_MODEL_3f060e85c0064fccbdac885dff289ac5",
        "IPY_MODEL_2121db130d9d437fa7ac75329858ea9f"
       ],
       "layout": "IPY_MODEL_1fccaf951fe04d84aff65fc284488dae"
      }
     },
     "ae59cc6abd734c0daf5487f8f5936d68": {
      "model_module": "@jupyter-widgets/controls",
      "model_module_version": "2.0.0",
      "model_name": "HTMLStyleModel",
      "state": {
       "description_width": "",
       "font_size": null,
       "text_color": null
      }
     },
     "b2941a73fcc74bd0bc65098cc56b08f9": {
      "model_module": "@jupyter-widgets/base",
      "model_module_version": "2.0.0",
      "model_name": "LayoutModel",
      "state": {
       "margin": "0px 0px 10px 0px"
      }
     },
     "bb78937da23349b4be5ca855d6cb4532": {
      "model_module": "@jupyter-widgets/base",
      "model_module_version": "2.0.0",
      "model_name": "LayoutModel",
      "state": {
       "grid_area": "right",
       "padding": "0px 0px 0px 0px",
       "width": "70px"
      }
     },
     "c121d372474243a293c99f2415c76b78": {
      "model_module": "@jupyter-widgets/controls",
      "model_module_version": "2.0.0",
      "model_name": "HTMLModel",
      "state": {
       "layout": "IPY_MODEL_44c4b37e36d94c91b06beb86463f9724",
       "style": "IPY_MODEL_ce075d717a5e4c38b3d9d496f1fe1150",
       "value": "<h5>Status</h5>"
      }
     },
     "ce075d717a5e4c38b3d9d496f1fe1150": {
      "model_module": "@jupyter-widgets/controls",
      "model_module_version": "2.0.0",
      "model_name": "HTMLStyleModel",
      "state": {
       "description_width": "",
       "font_size": null,
       "text_color": null
      }
     },
     "d79dbfb425164763af75eb9281926d61": {
      "model_module": "@jupyter-widgets/base",
      "model_module_version": "2.0.0",
      "model_name": "LayoutModel",
      "state": {
       "width": "190px"
      }
     },
     "d82f2918549244f8870a2d868f1566b9": {
      "model_module": "@jupyter-widgets/controls",
      "model_module_version": "2.0.0",
      "model_name": "HTMLStyleModel",
      "state": {
       "description_width": "",
       "font_size": null,
       "text_color": null
      }
     },
     "f470043615774bb7bf95b50f3a34d0aa": {
      "model_module": "@jupyter-widgets/controls",
      "model_module_version": "2.0.0",
      "model_name": "HTMLStyleModel",
      "state": {
       "description_width": "",
       "font_size": null,
       "text_color": null
      }
     },
     "fd692210e10648449ddfb949a1bd8fbc": {
      "model_module": "@jupyter-widgets/controls",
      "model_module_version": "2.0.0",
      "model_name": "ButtonModel",
      "state": {
       "button_style": "primary",
       "description": "Clear",
       "layout": "IPY_MODEL_bb78937da23349b4be5ca855d6cb4532",
       "style": "IPY_MODEL_97686ffb344e429989515c5a55db935f",
       "tooltip": null
      }
     }
    },
    "version_major": 2,
    "version_minor": 0
   }
  }
 },
 "nbformat": 4,
 "nbformat_minor": 5
}
