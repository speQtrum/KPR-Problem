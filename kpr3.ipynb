{
 "cells": [
  {
   "cell_type": "code",
   "execution_count": 99,
   "id": "5552e8e4-b1ff-4cef-b070-682fe61703aa",
   "metadata": {
    "tags": []
   },
   "outputs": [],
   "source": [
    "import numpy as np\n",
    "import pandas as pd\n",
    "import matplotlib.pyplot as plt \n",
    "%matplotlib inline"
   ]
  },
  {
   "cell_type": "code",
   "execution_count": 100,
   "id": "2c5beec7-9a5c-4d52-a021-62e2105b3e41",
   "metadata": {
    "tags": []
   },
   "outputs": [],
   "source": [
    "def empty_cells(y,item):\n",
    "    x = y.flatten()\n",
    "    locs = []\n",
    "    for i in range(x.shape[0]):\n",
    "        if x[i] == 0 and item == 'box':\n",
    "            locs.append(i)\n",
    "        elif x[i] == 1 and item == 'ball':\n",
    "            locs.append(i)\n",
    "        else:\n",
    "            pass\n",
    "        \n",
    "    return locs\n",
    "\n",
    "\n",
    "\n",
    "def select_box(i,k,database,crowd): # k>day,i>ball number\n",
    "    \n",
    "    # occupancy_fraction = 1/(crowd[k,j])\n",
    "    if k == 0:\n",
    "        j = np.random.randint(0,N)\n",
    "    else:\n",
    "        last_location = database[i][k-1]\n",
    "        yesterday_crowd = crowd[k-1,last_location]\n",
    "        if yesterday_crowd == 0:\n",
    "            j = last_location #np.random.randint(0,N)\n",
    "        elif yesterday_crowd != 0:\n",
    "            if np.random.random() < 1/(yesterday_crowd + 1):    #occupancy_fraction:\n",
    "                j = last_location # last day's box\n",
    "            else:\n",
    "                j = np.random.randint(0,N) # new box\n",
    "    return j"
   ]
  },
  {
   "cell_type": "code",
   "execution_count": 101,
   "id": "b60f80f4-1794-4b51-b466-7a3c807fcaa7",
   "metadata": {
    "tags": []
   },
   "outputs": [
    {
     "ename": "KeyboardInterrupt",
     "evalue": "",
     "output_type": "error",
     "traceback": [
      "\u001b[0;31m---------------------------------------------------------------------------\u001b[0m",
      "\u001b[0;31mKeyboardInterrupt\u001b[0m                         Traceback (most recent call last)",
      "Cell \u001b[0;32mIn[101], line 28\u001b[0m\n\u001b[1;32m     24\u001b[0m \u001b[38;5;28;01mwhile\u001b[39;00m balls[k]\u001b[38;5;241m.\u001b[39msum() \u001b[38;5;241m>\u001b[39m \u001b[38;5;241m0\u001b[39m:\n\u001b[1;32m     25\u001b[0m     \u001b[38;5;66;03m# print('\\n\\n','*'*20,'Execution no:',k,'*'*20)\u001b[39;00m\n\u001b[1;32m     27\u001b[0m     balls_left \u001b[38;5;241m=\u001b[39m empty_cells(balls[k],\u001b[38;5;124m'\u001b[39m\u001b[38;5;124mball\u001b[39m\u001b[38;5;124m'\u001b[39m)\n\u001b[0;32m---> 28\u001b[0m     i \u001b[38;5;241m=\u001b[39m \u001b[43mnp\u001b[49m\u001b[38;5;241;43m.\u001b[39;49m\u001b[43mrandom\u001b[49m\u001b[38;5;241;43m.\u001b[39;49m\u001b[43mchoice\u001b[49m\u001b[43m(\u001b[49m\u001b[43mballs_left\u001b[49m\u001b[43m)\u001b[49m \u001b[38;5;66;03m# randomly selecting ball\u001b[39;00m\n\u001b[1;32m     30\u001b[0m     \u001b[38;5;28;01mif\u001b[39;00m balls[k,i] \u001b[38;5;241m==\u001b[39m \u001b[38;5;241m1\u001b[39m:\n\u001b[1;32m     33\u001b[0m         j \u001b[38;5;241m=\u001b[39m select_box(i,k,database,crowd) \n",
      "\u001b[0;31mKeyboardInterrupt\u001b[0m: "
     ]
    }
   ],
   "source": [
    "# N = 12\n",
    "# steps = 150\n",
    "# balls = np.ones((steps,N))\n",
    "# boxes = np.zeros((steps,N))\n",
    "# crowd = np.zeros((steps,N))\n",
    "# utils, database = [], {}\n",
    "ball_count = []\n",
    "utility_tracker = []\n",
    "U = []\n",
    "\n",
    "###### i = ball number, j = box number ,k = step number\n",
    "\n",
    "for a in range(5,51):\n",
    "    N = 1*a\n",
    "    steps = 50000\n",
    "    balls = np.ones((steps,N))\n",
    "    boxes = np.zeros((steps,N))\n",
    "    crowd = np.zeros((steps,N))\n",
    "    utils, database = [], {}\n",
    "\n",
    "    # while utility < 99:\n",
    "    for k in range(steps):\n",
    "\n",
    "        while balls[k].sum() > 0:\n",
    "            # print('\\n\\n','*'*20,'Execution no:',k,'*'*20)\n",
    "\n",
    "            balls_left = empty_cells(balls[k],'ball')\n",
    "            i = np.random.choice(balls_left) # randomly selecting ball\n",
    "\n",
    "            if balls[k,i] == 1:\n",
    "\n",
    "\n",
    "                j = select_box(i,k,database,crowd) \n",
    "                # j = np.random.randint(0,N)   # selecting a box randmly \n",
    "                                             # Additional criteria can be applied here\n",
    "\n",
    "                if boxes[k,j] == 0.0:\n",
    "                    boxes[k,j] = boxes[k,j] + 1\n",
    "                    # print('{}-th ball went to {}-th box and {} balls left'.format(i+1,j+1,int(balls[k].sum()-1)))\n",
    "\n",
    "                    ## store the i,j value in a variable\n",
    "                    if database.get(i) is None:\n",
    "                        database[i] = [j]\n",
    "\n",
    "                    else:\n",
    "                        database[i] = database[i] + [j] \n",
    "\n",
    "                else:\n",
    "                    # print('{}-th ball got wasted and {} balls left'.format(i+1,int(balls[k].sum()-1)))\n",
    "                    crowd[k,j] = crowd[k,j] + 1\n",
    "\n",
    "\n",
    "                     ## store the i,j value in a variable\n",
    "                    if database.get(i) is None:\n",
    "                        database[i] = [j]\n",
    "                    else:\n",
    "                        database[i] = database[i] + [j]\n",
    "\n",
    "\n",
    "                balls[k,i] = balls[k,i] - 1\n",
    "            else:\n",
    "                print('CAUTION!! No ball is thrown')\n",
    "\n",
    "    #         if N < 25:\n",
    "    #             print(\"\")\n",
    "    #             print('Balls config:',balls[k])\n",
    "    #             print('Boxes config:',boxes[k])\n",
    "    #             print(\"Crowd  Track:\",crowd[k])\n",
    "    #         else:\n",
    "    #             pass\n",
    "\n",
    "        utility = boxes[k].sum()*100/N\n",
    "        utils.append(utility)\n",
    "        if utility >= 100:\n",
    "            ball_count.append(N)\n",
    "            utility_tracker.append(k)\n",
    "            break\n",
    "        \n",
    "        else:\n",
    "            pass\n",
    "        # break\n",
    "            \n",
    "        # print('\\n\\nThe final utility is of {}-th run is: {} %'.format(k,utility))\n",
    "    U.append(utils)\n",
    "    # break"
   ]
  },
  {
   "cell_type": "code",
   "execution_count": null,
   "id": "9ac9ea5a-bc42-45b5-a9e3-9d2e42bf0d3b",
   "metadata": {
    "tags": []
   },
   "outputs": [],
   "source": [
    "# U"
   ]
  },
  {
   "cell_type": "code",
   "execution_count": 102,
   "id": "2ed2a1cc-97f3-43c4-9049-2b5cc4f5bb80",
   "metadata": {
    "tags": []
   },
   "outputs": [
    {
     "data": {
      "text/plain": [
       "45"
      ]
     },
     "execution_count": 102,
     "metadata": {},
     "output_type": "execute_result"
    }
   ],
   "source": [
    "ball_count[-1]"
   ]
  },
  {
   "cell_type": "code",
   "execution_count": 105,
   "id": "70dae3a0-e96d-4a62-96f5-8a3d43fe50be",
   "metadata": {
    "tags": []
   },
   "outputs": [
    {
     "data": {
      "text/plain": [
       "131882"
      ]
     },
     "execution_count": 105,
     "metadata": {},
     "output_type": "execute_result"
    }
   ],
   "source": [
    "utility_tracker"
   ]
  },
  {
   "cell_type": "code",
   "execution_count": 109,
   "id": "6940574e-9196-41ae-ae12-8bc7c1a3086b",
   "metadata": {
    "tags": []
   },
   "outputs": [
    {
     "data": {
      "image/png": "[encoded data removed]",
      "text/plain": [
       "<Figure size 1500x400 with 1 Axes>"
      ]
     },
     "metadata": {},
     "output_type": "display_data"
    }
   ],
   "source": [
    "# print(\"The average occupancy or utility is {}% for {} balls\".format(np.array(utils).mean(),N))\n",
    "plt.figure(figsize=(15,4))\n",
    "plt.plot(ball_count,utility_tracker)\n",
    "plt.xlabel(\"Number of workers\")\n",
    "plt.ylabel(\"Saturation Iteration Number (in days)\")\n",
    "plt.title(\"No of workers vs Saturation Day Number\")\n",
    "# plt.axhline(y = np.array(utils).mean(), color = 'r', linestyle = '-')\n",
    "plt.show()"
   ]
  },
  {
   "cell_type": "code",
   "execution_count": null,
   "id": "f1be0d11-6ecf-46d8-837e-6c9cdb280ec9",
   "metadata": {},
   "outputs": [],
   "source": []
  },
  {
   "cell_type": "code",
   "execution_count": null,
   "id": "fb79f97d-597c-4cce-b938-e8e06786eb73",
   "metadata": {},
   "outputs": [],
   "source": []
  },
  {
   "cell_type": "code",
   "execution_count": null,
   "id": "4ca73c43-28ca-444a-a369-f297cd2c1839",
   "metadata": {},
   "outputs": [],
   "source": []
  },
  {
   "cell_type": "code",
   "execution_count": null,
   "id": "6404b76d-314a-48b8-98c6-3510c7ed2169",
   "metadata": {},
   "outputs": [],
   "source": []
  }
 ],
 "metadata": {
  "kernelspec": {
   "display_name": "Python 3 (ipykernel)",
   "language": "python",
   "name": "python3"
  },
  "language_info": {
   "codemirror_mode": {
    "name": "ipython",
    "version": 3
   },
   "file_extension": ".py",
   "mimetype": "text/x-python",
   "name": "python",
   "nbconvert_exporter": "python",
   "pygments_lexer": "ipython3",
   "version": "3.10.8"
  },
  "widgets": {
   "application/vnd.jupyter.widget-state+json": {
    "state": {
     "1be85511d9c8451c9045b436f8d5346f": {
      "model_module": "@jupyter-widgets/controls",
      "model_module_version": "2.0.0",
      "model_name": "HTMLModel",
      "state": {
       "layout": "IPY_MODEL_d7068616828840239d9f11261e2f3d9f",
       "style": "IPY_MODEL_cb3012c57a10425fa326532de064dc9f",
       "value": "<h5>Backend</h5>"
      }
     },
     "35a13d5bbe874258b63764155f625769": {
      "model_module": "@jupyter-widgets/base",
      "model_module_version": "2.0.0",
      "model_name": "LayoutModel",
      "state": {
       "grid_template_areas": "\n                                       \". . . . right \"\n                                        ",
       "grid_template_columns": "20% 20% 20% 20% 20%",
       "width": "100%"
      }
     },
     "3a4dd8569e8b432bb1d98c61afea563b": {
      "model_module": "@jupyter-widgets/controls",
      "model_module_version": "2.0.0",
      "model_name": "HTMLStyleModel",
      "state": {
       "description_width": "",
       "font_size": null,
       "text_color": null
      }
     },
     "3bb52647cfb14ffd8b58001ea7b32d48": {
      "model_module": "@jupyter-widgets/controls",
      "model_module_version": "2.0.0",
      "model_name": "HBoxModel",
      "state": {
       "children": [
        "IPY_MODEL_5ef4694b9a0a4cd79fe546bce4d99409",
        "IPY_MODEL_1be85511d9c8451c9045b436f8d5346f",
        "IPY_MODEL_672ad1b24378419cb67aca7dac52aa05",
        "IPY_MODEL_a0549c2854794496b8bd157b731ab006",
        "IPY_MODEL_458fc3ade0a747069e1bbca694887817"
       ],
       "layout": "IPY_MODEL_76a59d3e3f374bf4ba2912a29733c578"
      }
     },
     "43ed1002d4c348f6a868955526eb7a74": {
      "model_module": "@jupyter-widgets/base",
      "model_module_version": "2.0.0",
      "model_name": "LayoutModel",
      "state": {
       "margin": "0px 0px 10px 0px"
      }
     },
     "453f5f8018004e6bb128c0aa470a9f4e": {
      "model_module": "@jupyter-widgets/base",
      "model_module_version": "2.0.0",
      "model_name": "LayoutModel",
      "state": {
       "width": "190px"
      }
     },
     "458fc3ade0a747069e1bbca694887817": {
      "model_module": "@jupyter-widgets/controls",
      "model_module_version": "2.0.0",
      "model_name": "HTMLModel",
      "state": {
       "layout": "IPY_MODEL_94c1882bda9c42bbb46c4dad5606e863",
       "style": "IPY_MODEL_57371e7d3a4f4ca5804bf660ebcb98ba",
       "value": "<h5>Message</h5>"
      }
     },
     "57371e7d3a4f4ca5804bf660ebcb98ba": {
      "model_module": "@jupyter-widgets/controls",
      "model_module_version": "2.0.0",
      "model_name": "HTMLStyleModel",
      "state": {
       "description_width": "",
       "font_size": null,
       "text_color": null
      }
     },
     "5ef4694b9a0a4cd79fe546bce4d99409": {
      "model_module": "@jupyter-widgets/controls",
      "model_module_version": "2.0.0",
      "model_name": "HTMLModel",
      "state": {
       "layout": "IPY_MODEL_453f5f8018004e6bb128c0aa470a9f4e",
       "style": "IPY_MODEL_3a4dd8569e8b432bb1d98c61afea563b",
       "value": "<h5>Job ID</h5>"
      }
     },
     "5f85745001bd46ea902b43da9cf71b44": {
      "model_module": "@jupyter-widgets/controls",
      "model_module_version": "2.0.0",
      "model_name": "HTMLStyleModel",
      "state": {
       "description_width": "",
       "font_size": null,
       "text_color": null
      }
     },
     "6575da51b59947cf9940969011e0e351": {
      "model_module": "@jupyter-widgets/controls",
      "model_module_version": "2.0.0",
      "model_name": "ButtonStyleModel",
      "state": {
       "font_family": null,
       "font_size": null,
       "font_style": null,
       "font_variant": null,
       "font_weight": null,
       "text_color": null,
       "text_decoration": null
      }
     },
     "672ad1b24378419cb67aca7dac52aa05": {
      "model_module": "@jupyter-widgets/controls",
      "model_module_version": "2.0.0",
      "model_name": "HTMLModel",
      "state": {
       "layout": "IPY_MODEL_cd4aa2aadcec43a2b999410844d3032a",
       "style": "IPY_MODEL_5f85745001bd46ea902b43da9cf71b44",
       "value": "<h5>Status</h5>"
      }
     },
     "7300ccc1c75b4e099b0773213188a7ff": {
      "model_module": "@jupyter-widgets/base",
      "model_module_version": "2.0.0",
      "model_name": "LayoutModel",
      "state": {
       "grid_area": "right",
       "padding": "0px 0px 0px 0px",
       "width": "70px"
      }
     },
     "75c225b7548f4900821c11b34e35b71f": {
      "model_module": "@jupyter-widgets/controls",
      "model_module_version": "2.0.0",
      "model_name": "ButtonModel",
      "state": {
       "button_style": "primary",
       "description": "Clear",
       "layout": "IPY_MODEL_7300ccc1c75b4e099b0773213188a7ff",
       "style": "IPY_MODEL_6575da51b59947cf9940969011e0e351",
       "tooltip": null
      }
     },
     "76a59d3e3f374bf4ba2912a29733c578": {
      "model_module": "@jupyter-widgets/base",
      "model_module_version": "2.0.0",
      "model_name": "LayoutModel",
      "state": {
       "margin": "0px 0px 0px 37px",
       "width": "600px"
      }
     },
     "7ea061bccd434b71a8a3404800181c3a": {
      "model_module": "@jupyter-widgets/controls",
      "model_module_version": "2.0.0",
      "model_name": "HTMLStyleModel",
      "state": {
       "description_width": "",
       "font_size": null,
       "text_color": null
      }
     },
     "927c4e9019b2405391ab42e8fb6e5428": {
      "model_module": "@jupyter-widgets/controls",
      "model_module_version": "2.0.0",
      "model_name": "HTMLModel",
      "state": {
       "layout": "IPY_MODEL_43ed1002d4c348f6a868955526eb7a74",
       "style": "IPY_MODEL_7ea061bccd434b71a8a3404800181c3a",
       "value": "<p style='font-family: IBM Plex Sans, Arial, Helvetica, sans-serif; font-size: 20px; font-weight: medium;'>Circuit Properties</p>"
      }
     },
     "94c1882bda9c42bbb46c4dad5606e863": {
      "model_module": "@jupyter-widgets/base",
      "model_module_version": "2.0.0",
      "model_name": "LayoutModel",
      "state": {}
     },
     "a0549c2854794496b8bd157b731ab006": {
      "model_module": "@jupyter-widgets/controls",
      "model_module_version": "2.0.0",
      "model_name": "HTMLModel",
      "state": {
       "layout": "IPY_MODEL_b2fb2b9b0d644d48958fd42e3a5856d7",
       "style": "IPY_MODEL_b3ae755d73ae4d7887f493774e75d6d3",
       "value": "<h5>Queue</h5>"
      }
     },
     "a1e44be56f2e4c359f2b0688610b412f": {
      "model_module": "@jupyter-widgets/controls",
      "model_module_version": "2.0.0",
      "model_name": "GridBoxModel",
      "state": {
       "children": [
        "IPY_MODEL_75c225b7548f4900821c11b34e35b71f"
       ],
       "layout": "IPY_MODEL_35a13d5bbe874258b63764155f625769"
      }
     },
     "b2fb2b9b0d644d48958fd42e3a5856d7": {
      "model_module": "@jupyter-widgets/base",
      "model_module_version": "2.0.0",
      "model_name": "LayoutModel",
      "state": {
       "width": "70px"
      }
     },
     "b3ae755d73ae4d7887f493774e75d6d3": {
      "model_module": "@jupyter-widgets/controls",
      "model_module_version": "2.0.0",
      "model_name": "HTMLStyleModel",
      "state": {
       "description_width": "",
       "font_size": null,
       "text_color": null
      }
     },
     "cb3012c57a10425fa326532de064dc9f": {
      "model_module": "@jupyter-widgets/controls",
      "model_module_version": "2.0.0",
      "model_name": "HTMLStyleModel",
      "state": {
       "description_width": "",
       "font_size": null,
       "text_color": null
      }
     },
     "cd4aa2aadcec43a2b999410844d3032a": {
      "model_module": "@jupyter-widgets/base",
      "model_module_version": "2.0.0",
      "model_name": "LayoutModel",
      "state": {
       "width": "95px"
      }
     },
     "d7068616828840239d9f11261e2f3d9f": {
      "model_module": "@jupyter-widgets/base",
      "model_module_version": "2.0.0",
      "model_name": "LayoutModel",
      "state": {
       "width": "145px"
      }
     }
    },
    "version_major": 2,
    "version_minor": 0
   }
  }
 },
 "nbformat": 4,
 "nbformat_minor": 5
}
